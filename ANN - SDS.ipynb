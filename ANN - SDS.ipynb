{
 "cells": [
  {
   "cell_type": "code",
   "execution_count": 1,
   "metadata": {},
   "outputs": [],
   "source": [
    "import pandas as pd\n",
    "import numpy as np"
   ]
  },
  {
   "cell_type": "code",
   "execution_count": 2,
   "metadata": {},
   "outputs": [],
   "source": [
    "churn_modelling = pd.read_csv('Churn_Modelling.csv')"
   ]
  },
  {
   "cell_type": "code",
   "execution_count": 3,
   "metadata": {},
   "outputs": [
    {
     "data": {
      "text/html": [
       "<div>\n",
       "<style scoped>\n",
       "    .dataframe tbody tr th:only-of-type {\n",
       "        vertical-align: middle;\n",
       "    }\n",
       "\n",
       "    .dataframe tbody tr th {\n",
       "        vertical-align: top;\n",
       "    }\n",
       "\n",
       "    .dataframe thead th {\n",
       "        text-align: right;\n",
       "    }\n",
       "</style>\n",
       "<table border=\"1\" class=\"dataframe\">\n",
       "  <thead>\n",
       "    <tr style=\"text-align: right;\">\n",
       "      <th></th>\n",
       "      <th>RowNumber</th>\n",
       "      <th>CustomerId</th>\n",
       "      <th>Surname</th>\n",
       "      <th>CreditScore</th>\n",
       "      <th>Geography</th>\n",
       "      <th>Gender</th>\n",
       "      <th>Age</th>\n",
       "      <th>Tenure</th>\n",
       "      <th>Balance</th>\n",
       "      <th>NumOfProducts</th>\n",
       "      <th>HasCrCard</th>\n",
       "      <th>IsActiveMember</th>\n",
       "      <th>EstimatedSalary</th>\n",
       "      <th>Exited</th>\n",
       "    </tr>\n",
       "  </thead>\n",
       "  <tbody>\n",
       "    <tr>\n",
       "      <th>0</th>\n",
       "      <td>1</td>\n",
       "      <td>15634602</td>\n",
       "      <td>Hargrave</td>\n",
       "      <td>619</td>\n",
       "      <td>France</td>\n",
       "      <td>Female</td>\n",
       "      <td>42</td>\n",
       "      <td>2</td>\n",
       "      <td>0.00</td>\n",
       "      <td>1</td>\n",
       "      <td>1</td>\n",
       "      <td>1</td>\n",
       "      <td>101348.88</td>\n",
       "      <td>1</td>\n",
       "    </tr>\n",
       "    <tr>\n",
       "      <th>1</th>\n",
       "      <td>2</td>\n",
       "      <td>15647311</td>\n",
       "      <td>Hill</td>\n",
       "      <td>608</td>\n",
       "      <td>Spain</td>\n",
       "      <td>Female</td>\n",
       "      <td>41</td>\n",
       "      <td>1</td>\n",
       "      <td>83807.86</td>\n",
       "      <td>1</td>\n",
       "      <td>0</td>\n",
       "      <td>1</td>\n",
       "      <td>112542.58</td>\n",
       "      <td>0</td>\n",
       "    </tr>\n",
       "    <tr>\n",
       "      <th>2</th>\n",
       "      <td>3</td>\n",
       "      <td>15619304</td>\n",
       "      <td>Onio</td>\n",
       "      <td>502</td>\n",
       "      <td>France</td>\n",
       "      <td>Female</td>\n",
       "      <td>42</td>\n",
       "      <td>8</td>\n",
       "      <td>159660.80</td>\n",
       "      <td>3</td>\n",
       "      <td>1</td>\n",
       "      <td>0</td>\n",
       "      <td>113931.57</td>\n",
       "      <td>1</td>\n",
       "    </tr>\n",
       "    <tr>\n",
       "      <th>3</th>\n",
       "      <td>4</td>\n",
       "      <td>15701354</td>\n",
       "      <td>Boni</td>\n",
       "      <td>699</td>\n",
       "      <td>France</td>\n",
       "      <td>Female</td>\n",
       "      <td>39</td>\n",
       "      <td>1</td>\n",
       "      <td>0.00</td>\n",
       "      <td>2</td>\n",
       "      <td>0</td>\n",
       "      <td>0</td>\n",
       "      <td>93826.63</td>\n",
       "      <td>0</td>\n",
       "    </tr>\n",
       "    <tr>\n",
       "      <th>4</th>\n",
       "      <td>5</td>\n",
       "      <td>15737888</td>\n",
       "      <td>Mitchell</td>\n",
       "      <td>850</td>\n",
       "      <td>Spain</td>\n",
       "      <td>Female</td>\n",
       "      <td>43</td>\n",
       "      <td>2</td>\n",
       "      <td>125510.82</td>\n",
       "      <td>1</td>\n",
       "      <td>1</td>\n",
       "      <td>1</td>\n",
       "      <td>79084.10</td>\n",
       "      <td>0</td>\n",
       "    </tr>\n",
       "  </tbody>\n",
       "</table>\n",
       "</div>"
      ],
      "text/plain": [
       "   RowNumber  CustomerId   Surname  CreditScore Geography  Gender  Age  \\\n",
       "0          1    15634602  Hargrave          619    France  Female   42   \n",
       "1          2    15647311      Hill          608     Spain  Female   41   \n",
       "2          3    15619304      Onio          502    France  Female   42   \n",
       "3          4    15701354      Boni          699    France  Female   39   \n",
       "4          5    15737888  Mitchell          850     Spain  Female   43   \n",
       "\n",
       "   Tenure    Balance  NumOfProducts  HasCrCard  IsActiveMember  \\\n",
       "0       2       0.00              1          1               1   \n",
       "1       1   83807.86              1          0               1   \n",
       "2       8  159660.80              3          1               0   \n",
       "3       1       0.00              2          0               0   \n",
       "4       2  125510.82              1          1               1   \n",
       "\n",
       "   EstimatedSalary  Exited  \n",
       "0        101348.88       1  \n",
       "1        112542.58       0  \n",
       "2        113931.57       1  \n",
       "3         93826.63       0  \n",
       "4         79084.10       0  "
      ]
     },
     "execution_count": 3,
     "metadata": {},
     "output_type": "execute_result"
    }
   ],
   "source": [
    "churn_modelling.head(5)"
   ]
  },
  {
   "cell_type": "code",
   "execution_count": 4,
   "metadata": {},
   "outputs": [
    {
     "data": {
      "text/plain": [
       "(10000, 14)"
      ]
     },
     "execution_count": 4,
     "metadata": {},
     "output_type": "execute_result"
    }
   ],
   "source": [
    "churn_modelling.shape"
   ]
  },
  {
   "cell_type": "markdown",
   "metadata": {},
   "source": [
    "## Part-1 Data Preprocessing"
   ]
  },
  {
   "cell_type": "code",
   "execution_count": 5,
   "metadata": {},
   "outputs": [
    {
     "data": {
      "text/plain": [
       "RowNumber          0\n",
       "CustomerId         0\n",
       "Surname            0\n",
       "CreditScore        0\n",
       "Geography          0\n",
       "Gender             0\n",
       "Age                0\n",
       "Tenure             0\n",
       "Balance            0\n",
       "NumOfProducts      0\n",
       "HasCrCard          0\n",
       "IsActiveMember     0\n",
       "EstimatedSalary    0\n",
       "Exited             0\n",
       "dtype: int64"
      ]
     },
     "execution_count": 5,
     "metadata": {},
     "output_type": "execute_result"
    }
   ],
   "source": [
    "churn_modelling.isnull().sum()"
   ]
  },
  {
   "cell_type": "code",
   "execution_count": 6,
   "metadata": {},
   "outputs": [],
   "source": [
    "X = churn_modelling.iloc[:, 3:-1].values\n",
    "y = churn_modelling.iloc[:, -1].values"
   ]
  },
  {
   "cell_type": "code",
   "execution_count": 7,
   "metadata": {},
   "outputs": [
    {
     "data": {
      "text/plain": [
       "(10000, 10)"
      ]
     },
     "execution_count": 7,
     "metadata": {},
     "output_type": "execute_result"
    }
   ],
   "source": [
    "X.shape"
   ]
  },
  {
   "cell_type": "code",
   "execution_count": 8,
   "metadata": {},
   "outputs": [
    {
     "name": "stdout",
     "output_type": "stream",
     "text": [
      "(10000, 10)\n",
      "(10000,)\n"
     ]
    }
   ],
   "source": [
    "print(X.shape)\n",
    "print(y.shape)"
   ]
  },
  {
   "cell_type": "markdown",
   "metadata": {},
   "source": [
    "### Encoding categorical data"
   ]
  },
  {
   "cell_type": "code",
   "execution_count": 9,
   "metadata": {},
   "outputs": [],
   "source": [
    "# perform dummyfication as there's categorical variables \n",
    "\n",
    "from sklearn.preprocessing import LabelEncoder\n",
    "le = LabelEncoder()\n",
    "X[:, 2] = le.fit_transform(X[:, 2])"
   ]
  },
  {
   "cell_type": "code",
   "execution_count": 10,
   "metadata": {},
   "outputs": [],
   "source": [
    "from sklearn.compose import ColumnTransformer\n",
    "from sklearn.preprocessing import OneHotEncoder\n",
    "ct = ColumnTransformer(transformers=[('encoder', OneHotEncoder(), [1])], remainder='passthrough')\n",
    "X = np.array(ct.fit_transform(X))"
   ]
  },
  {
   "cell_type": "code",
   "execution_count": 11,
   "metadata": {},
   "outputs": [
    {
     "data": {
      "text/plain": [
       "(10000, 12)"
      ]
     },
     "execution_count": 11,
     "metadata": {},
     "output_type": "execute_result"
    }
   ],
   "source": [
    "X.shape"
   ]
  },
  {
   "cell_type": "markdown",
   "metadata": {},
   "source": [
    "### Target decoupling"
   ]
  },
  {
   "cell_type": "code",
   "execution_count": 12,
   "metadata": {},
   "outputs": [],
   "source": [
    "from sklearn.model_selection import train_test_split"
   ]
  },
  {
   "cell_type": "code",
   "execution_count": 13,
   "metadata": {},
   "outputs": [],
   "source": [
    "X_train,X_test,y_train,y_test = train_test_split(X,y,test_size=0.2,random_state=0)"
   ]
  },
  {
   "cell_type": "code",
   "execution_count": 14,
   "metadata": {},
   "outputs": [
    {
     "name": "stdout",
     "output_type": "stream",
     "text": [
      "(8000, 12)\n",
      "(2000, 12)\n",
      "(8000,)\n",
      "(2000,)\n"
     ]
    }
   ],
   "source": [
    "print(X_train.shape)\n",
    "print(X_test.shape)\n",
    "print(y_train.shape)\n",
    "print(y_test.shape)"
   ]
  },
  {
   "cell_type": "markdown",
   "metadata": {},
   "source": [
    "### Feature scaling"
   ]
  },
  {
   "cell_type": "code",
   "execution_count": 15,
   "metadata": {},
   "outputs": [],
   "source": [
    "from sklearn.preprocessing import StandardScaler"
   ]
  },
  {
   "cell_type": "code",
   "execution_count": 16,
   "metadata": {},
   "outputs": [],
   "source": [
    "sc = StandardScaler()\n",
    "X_train = sc.fit_transform(X_train)\n",
    "X_test  = sc.fit_transform(X_test)"
   ]
  },
  {
   "cell_type": "markdown",
   "metadata": {},
   "source": [
    "## Part-2 Lets make ANN!"
   ]
  },
  {
   "cell_type": "markdown",
   "metadata": {},
   "source": [
    "### Creating model with 2 hidden layers"
   ]
  },
  {
   "cell_type": "code",
   "execution_count": 17,
   "metadata": {},
   "outputs": [
    {
     "name": "stderr",
     "output_type": "stream",
     "text": [
      "Using TensorFlow backend.\n"
     ]
    }
   ],
   "source": [
    "import keras\n",
    "import tensorflow as tf"
   ]
  },
  {
   "cell_type": "code",
   "execution_count": 18,
   "metadata": {},
   "outputs": [],
   "source": [
    "from tensorflow.keras import Sequential # To initialize ANN\n",
    "from tensorflow.keras.layers import Dense     # To add layers in ANN"
   ]
  },
  {
   "cell_type": "code",
   "execution_count": 19,
   "metadata": {},
   "outputs": [],
   "source": [
    "# Initialising ANN\n",
    "\n",
    "classifier = Sequential()"
   ]
  },
  {
   "cell_type": "code",
   "execution_count": 20,
   "metadata": {},
   "outputs": [],
   "source": [
    "# Adding input layer and first input layer\n",
    "# units is the number of nodes in the hidden layer\n",
    "#kernel_initializer is to initialise the weights uniformly\n",
    "\n",
    "classifier.add(Dense(units = 6, activation = 'relu', kernel_initializer='glorot_uniform'))"
   ]
  },
  {
   "cell_type": "code",
   "execution_count": 21,
   "metadata": {},
   "outputs": [],
   "source": [
    "# Adding the second hidden layer\n",
    "\n",
    "classifier.add(Dense(units = 6, activation = 'relu', kernel_initializer='glorot_uniform'))"
   ]
  },
  {
   "cell_type": "code",
   "execution_count": 22,
   "metadata": {},
   "outputs": [],
   "source": [
    "# Adding the output layer\n",
    "\n",
    "classifier.add(Dense(units = 1, activation = 'sigmoid', kernel_initializer='glorot_uniform'))"
   ]
  },
  {
   "cell_type": "code",
   "execution_count": 23,
   "metadata": {},
   "outputs": [],
   "source": [
    "# Compiling the ANN - Adding Stochastic gradient descent to the model.\n",
    "# of many stochastic gradient descent model, 'adam' is the most efficient one. \n",
    "#for Binary output we use 'binary_crossentropy' as loss function, if it's categorical having 3 ore more outputs we use 'categorical_crossentropy'.\n",
    "\n",
    "classifier.compile(optimizer='adam', loss = 'binary_crossentropy', metrics = ['accuracy'])"
   ]
  },
  {
   "cell_type": "code",
   "execution_count": 24,
   "metadata": {},
   "outputs": [
    {
     "name": "stdout",
     "output_type": "stream",
     "text": [
      "Train on 8000 samples\n",
      "Epoch 1/100\n",
      "8000/8000 [==============================] - 3s 361us/sample - loss: 0.4922 - accuracy: 0.7832\n",
      "Epoch 2/100\n",
      "8000/8000 [==============================] - 2s 211us/sample - loss: 0.4365 - accuracy: 0.7960\n",
      "Epoch 3/100\n",
      "8000/8000 [==============================] - 2s 218us/sample - loss: 0.4284 - accuracy: 0.7993\n",
      "Epoch 4/100\n",
      "8000/8000 [==============================] - 2s 221us/sample - loss: 0.4175 - accuracy: 0.8185\n",
      "Epoch 5/100\n",
      "8000/8000 [==============================] - 2s 224us/sample - loss: 0.4060 - accuracy: 0.8261\n",
      "Epoch 6/100\n",
      "8000/8000 [==============================] - 2s 211us/sample - loss: 0.3982 - accuracy: 0.8301\n",
      "Epoch 7/100\n",
      "8000/8000 [==============================] - 1s 141us/sample - loss: 0.3926 - accuracy: 0.8309\n",
      "Epoch 8/100\n",
      "8000/8000 [==============================] - 1s 157us/sample - loss: 0.3883 - accuracy: 0.8316\n",
      "Epoch 9/100\n",
      "8000/8000 [==============================] - 2s 221us/sample - loss: 0.3851 - accuracy: 0.8321\n",
      "Epoch 10/100\n",
      "8000/8000 [==============================] - 2s 216us/sample - loss: 0.3822 - accuracy: 0.8347\n",
      "Epoch 11/100\n",
      "8000/8000 [==============================] - 2s 234us/sample - loss: 0.3794 - accuracy: 0.8395\n",
      "Epoch 12/100\n",
      "8000/8000 [==============================] - 2s 213us/sample - loss: 0.3770 - accuracy: 0.8395\n",
      "Epoch 13/100\n",
      "8000/8000 [==============================] - 2s 206us/sample - loss: 0.3748 - accuracy: 0.8414\n",
      "Epoch 14/100\n",
      "8000/8000 [==============================] - 2s 235us/sample - loss: 0.3715 - accuracy: 0.8435\n",
      "Epoch 15/100\n",
      "8000/8000 [==============================] - 2s 222us/sample - loss: 0.3677 - accuracy: 0.8461\n",
      "Epoch 16/100\n",
      "8000/8000 [==============================] - 2s 220us/sample - loss: 0.3655 - accuracy: 0.8478\n",
      "Epoch 17/100\n",
      "8000/8000 [==============================] - 2s 230us/sample - loss: 0.3624 - accuracy: 0.8493\n",
      "Epoch 18/100\n",
      "8000/8000 [==============================] - 2s 212us/sample - loss: 0.3587 - accuracy: 0.8518\n",
      "Epoch 19/100\n",
      "8000/8000 [==============================] - 2s 229us/sample - loss: 0.3553 - accuracy: 0.8547\n",
      "Epoch 20/100\n",
      "8000/8000 [==============================] - 2s 237us/sample - loss: 0.3521 - accuracy: 0.8581\n",
      "Epoch 21/100\n",
      "8000/8000 [==============================] - 2s 233us/sample - loss: 0.3498 - accuracy: 0.8565\n",
      "Epoch 22/100\n",
      "8000/8000 [==============================] - 2s 225us/sample - loss: 0.3470 - accuracy: 0.8593\n",
      "Epoch 23/100\n",
      "8000/8000 [==============================] - 2s 226us/sample - loss: 0.3449 - accuracy: 0.8593\n",
      "Epoch 24/100\n",
      "8000/8000 [==============================] - 2s 230us/sample - loss: 0.3430 - accuracy: 0.8625\n",
      "Epoch 25/100\n",
      "8000/8000 [==============================] - 2s 215us/sample - loss: 0.3428 - accuracy: 0.8622\n",
      "Epoch 26/100\n",
      "8000/8000 [==============================] - 2s 233us/sample - loss: 0.3421 - accuracy: 0.8633\n",
      "Epoch 27/100\n",
      "8000/8000 [==============================] - 2s 235us/sample - loss: 0.3415 - accuracy: 0.8606\n",
      "Epoch 28/100\n",
      "8000/8000 [==============================] - 2s 241us/sample - loss: 0.3406 - accuracy: 0.8619\n",
      "Epoch 29/100\n",
      "8000/8000 [==============================] - 2s 234us/sample - loss: 0.3401 - accuracy: 0.8605\n",
      "Epoch 30/100\n",
      "8000/8000 [==============================] - 2s 219us/sample - loss: 0.3400 - accuracy: 0.8616\n",
      "Epoch 31/100\n",
      "8000/8000 [==============================] - 2s 229us/sample - loss: 0.3394 - accuracy: 0.8634\n",
      "Epoch 32/100\n",
      "8000/8000 [==============================] - 2s 224us/sample - loss: 0.3397 - accuracy: 0.8625\n",
      "Epoch 33/100\n",
      "8000/8000 [==============================] - 2s 224us/sample - loss: 0.3389 - accuracy: 0.8606\n",
      "Epoch 34/100\n",
      "8000/8000 [==============================] - 2s 222us/sample - loss: 0.3389 - accuracy: 0.8629\n",
      "Epoch 35/100\n",
      "8000/8000 [==============================] - 2s 229us/sample - loss: 0.3386 - accuracy: 0.8618\n",
      "Epoch 36/100\n",
      "8000/8000 [==============================] - 2s 237us/sample - loss: 0.3384 - accuracy: 0.8621\n",
      "Epoch 37/100\n",
      "8000/8000 [==============================] - 2s 238us/sample - loss: 0.3383 - accuracy: 0.8627\n",
      "Epoch 38/100\n",
      "8000/8000 [==============================] - 2s 227us/sample - loss: 0.3383 - accuracy: 0.8636\n",
      "Epoch 39/100\n",
      "8000/8000 [==============================] - 2s 235us/sample - loss: 0.3379 - accuracy: 0.8611\n",
      "Epoch 40/100\n",
      "8000/8000 [==============================] - 2s 231us/sample - loss: 0.3371 - accuracy: 0.8627\n",
      "Epoch 41/100\n",
      "8000/8000 [==============================] - 2s 218us/sample - loss: 0.3375 - accuracy: 0.8615\n",
      "Epoch 42/100\n",
      "8000/8000 [==============================] - 2s 229us/sample - loss: 0.3375 - accuracy: 0.8619\n",
      "Epoch 43/100\n",
      "8000/8000 [==============================] - 2s 233us/sample - loss: 0.3371 - accuracy: 0.8609\n",
      "Epoch 44/100\n",
      "8000/8000 [==============================] - 2s 230us/sample - loss: 0.3366 - accuracy: 0.8646\n",
      "Epoch 45/100\n",
      "8000/8000 [==============================] - 2s 232us/sample - loss: 0.3369 - accuracy: 0.8614\n",
      "Epoch 46/100\n",
      "8000/8000 [==============================] - 2s 235us/sample - loss: 0.3366 - accuracy: 0.8625\n",
      "Epoch 47/100\n",
      "8000/8000 [==============================] - 2s 211us/sample - loss: 0.3367 - accuracy: 0.8612\n",
      "Epoch 48/100\n",
      "8000/8000 [==============================] - 2s 223us/sample - loss: 0.3366 - accuracy: 0.8635\n",
      "Epoch 49/100\n",
      "8000/8000 [==============================] - 2s 236us/sample - loss: 0.3361 - accuracy: 0.8625\n",
      "Epoch 50/100\n",
      "8000/8000 [==============================] - 2s 242us/sample - loss: 0.3359 - accuracy: 0.8626\n",
      "Epoch 51/100\n",
      "8000/8000 [==============================] - 2s 223us/sample - loss: 0.3365 - accuracy: 0.8608\n",
      "Epoch 52/100\n",
      "8000/8000 [==============================] - 2s 195us/sample - loss: 0.3365 - accuracy: 0.8636\n",
      "Epoch 53/100\n",
      "8000/8000 [==============================] - 2s 244us/sample - loss: 0.3363 - accuracy: 0.8624\n",
      "Epoch 54/100\n",
      "8000/8000 [==============================] - ETA: 0s - loss: 0.3369 - accuracy: 0.86 - 2s 221us/sample - loss: 0.3363 - accuracy: 0.8620\n",
      "Epoch 55/100\n",
      "8000/8000 [==============================] - 2s 241us/sample - loss: 0.3360 - accuracy: 0.8618\n",
      "Epoch 56/100\n",
      "8000/8000 [==============================] - 2s 238us/sample - loss: 0.3363 - accuracy: 0.8618\n",
      "Epoch 57/100\n",
      "8000/8000 [==============================] - 2s 226us/sample - loss: 0.3360 - accuracy: 0.8635\n",
      "Epoch 58/100\n",
      "8000/8000 [==============================] - 2s 240us/sample - loss: 0.3360 - accuracy: 0.8616\n",
      "Epoch 59/100\n",
      "8000/8000 [==============================] - 2s 216us/sample - loss: 0.3353 - accuracy: 0.8622\n",
      "Epoch 60/100\n",
      "8000/8000 [==============================] - 2s 218us/sample - loss: 0.3356 - accuracy: 0.8645\n",
      "Epoch 61/100\n",
      "8000/8000 [==============================] - 2s 213us/sample - loss: 0.3356 - accuracy: 0.8624\n",
      "Epoch 62/100\n",
      "8000/8000 [==============================] - 2s 216us/sample - loss: 0.3354 - accuracy: 0.8626\n",
      "Epoch 63/100\n",
      "8000/8000 [==============================] - 2s 212us/sample - loss: 0.3353 - accuracy: 0.8619\n",
      "Epoch 64/100\n",
      "8000/8000 [==============================] - 2s 225us/sample - loss: 0.3347 - accuracy: 0.8618\n",
      "Epoch 65/100\n",
      "8000/8000 [==============================] - 2s 215us/sample - loss: 0.3358 - accuracy: 0.8641\n",
      "Epoch 66/100\n",
      "8000/8000 [==============================] - 2s 218us/sample - loss: 0.3352 - accuracy: 0.8625\n",
      "Epoch 67/100\n",
      "8000/8000 [==============================] - 2s 226us/sample - loss: 0.3349 - accuracy: 0.8631\n",
      "Epoch 68/100\n",
      "8000/8000 [==============================] - 2s 226us/sample - loss: 0.3353 - accuracy: 0.8627\n",
      "Epoch 69/100\n",
      "8000/8000 [==============================] - 2s 234us/sample - loss: 0.3348 - accuracy: 0.8634\n",
      "Epoch 70/100\n",
      "8000/8000 [==============================] - 2s 233us/sample - loss: 0.3348 - accuracy: 0.8627\n",
      "Epoch 71/100\n",
      "8000/8000 [==============================] - 2s 232us/sample - loss: 0.3339 - accuracy: 0.8635\n",
      "Epoch 72/100\n",
      "8000/8000 [==============================] - 2s 234us/sample - loss: 0.3350 - accuracy: 0.8639\n",
      "Epoch 73/100\n",
      "8000/8000 [==============================] - 2s 235us/sample - loss: 0.3355 - accuracy: 0.8634\n",
      "Epoch 74/100\n",
      "8000/8000 [==============================] - 2s 234us/sample - loss: 0.3346 - accuracy: 0.8635\n",
      "Epoch 75/100\n",
      "8000/8000 [==============================] - 2s 222us/sample - loss: 0.3344 - accuracy: 0.8618\n",
      "Epoch 76/100\n"
     ]
    },
    {
     "name": "stdout",
     "output_type": "stream",
     "text": [
      "8000/8000 [==============================] - 2s 222us/sample - loss: 0.3347 - accuracy: 0.8639\n",
      "Epoch 77/100\n",
      "8000/8000 [==============================] - 2s 218us/sample - loss: 0.3344 - accuracy: 0.8641\n",
      "Epoch 78/100\n",
      "8000/8000 [==============================] - 2s 223us/sample - loss: 0.3342 - accuracy: 0.8626\n",
      "Epoch 79/100\n",
      "8000/8000 [==============================] - 2s 223us/sample - loss: 0.3342 - accuracy: 0.8619\n",
      "Epoch 80/100\n",
      "8000/8000 [==============================] - 2s 234us/sample - loss: 0.3344 - accuracy: 0.8635\n",
      "Epoch 81/100\n",
      "8000/8000 [==============================] - 2s 227us/sample - loss: 0.3348 - accuracy: 0.8622\n",
      "Epoch 82/100\n",
      "8000/8000 [==============================] - 2s 227us/sample - loss: 0.3338 - accuracy: 0.8646\n",
      "Epoch 83/100\n",
      "8000/8000 [==============================] - 2s 215us/sample - loss: 0.3340 - accuracy: 0.8633\n",
      "Epoch 84/100\n",
      "8000/8000 [==============================] - 2s 224us/sample - loss: 0.3336 - accuracy: 0.8639\n",
      "Epoch 85/100\n",
      "8000/8000 [==============================] - 2s 224us/sample - loss: 0.3340 - accuracy: 0.8633\n",
      "Epoch 86/100\n",
      "8000/8000 [==============================] - 2s 218us/sample - loss: 0.3347 - accuracy: 0.8645\n",
      "Epoch 87/100\n",
      "8000/8000 [==============================] - 2s 221us/sample - loss: 0.3336 - accuracy: 0.8640\n",
      "Epoch 88/100\n",
      "8000/8000 [==============================] - 2s 221us/sample - loss: 0.3340 - accuracy: 0.8644\n",
      "Epoch 89/100\n",
      "8000/8000 [==============================] - 2s 221us/sample - loss: 0.3344 - accuracy: 0.8620\n",
      "Epoch 90/100\n",
      "8000/8000 [==============================] - 2s 229us/sample - loss: 0.3340 - accuracy: 0.8646\n",
      "Epoch 91/100\n",
      "8000/8000 [==============================] - 2s 236us/sample - loss: 0.3336 - accuracy: 0.8649\n",
      "Epoch 92/100\n",
      "8000/8000 [==============================] - 2s 233us/sample - loss: 0.3339 - accuracy: 0.8649\n",
      "Epoch 93/100\n",
      "8000/8000 [==============================] - 2s 227us/sample - loss: 0.3341 - accuracy: 0.8630\n",
      "Epoch 94/100\n",
      "8000/8000 [==============================] - 2s 222us/sample - loss: 0.3337 - accuracy: 0.8652\n",
      "Epoch 95/100\n",
      "8000/8000 [==============================] - 2s 224us/sample - loss: 0.3340 - accuracy: 0.8622\n",
      "Epoch 96/100\n",
      "8000/8000 [==============================] - 2s 217us/sample - loss: 0.3337 - accuracy: 0.8625\n",
      "Epoch 97/100\n",
      "8000/8000 [==============================] - 2s 233us/sample - loss: 0.3344 - accuracy: 0.8656\n",
      "Epoch 98/100\n",
      "8000/8000 [==============================] - 2s 200us/sample - loss: 0.3341 - accuracy: 0.8636\n",
      "Epoch 99/100\n",
      "8000/8000 [==============================] - 2s 222us/sample - loss: 0.3334 - accuracy: 0.8635\n",
      "Epoch 100/100\n",
      "8000/8000 [==============================] - 2s 202us/sample - loss: 0.3339 - accuracy: 0.8641\n"
     ]
    },
    {
     "data": {
      "text/plain": [
       "<tensorflow.python.keras.callbacks.History at 0x27574e80080>"
      ]
     },
     "execution_count": 24,
     "metadata": {},
     "output_type": "execute_result"
    }
   ],
   "source": [
    "# Fitting the ANN to the training set\n",
    "\n",
    "classifier.fit(X_train, y_train, batch_size = 10, epochs = 100)"
   ]
  },
  {
   "cell_type": "markdown",
   "metadata": {},
   "source": [
    "### Predicting test set results"
   ]
  },
  {
   "cell_type": "code",
   "execution_count": 25,
   "metadata": {},
   "outputs": [],
   "source": [
    "# This predict method gives us the probability of customer exiting/staying with theb bank\n",
    "y_pred = classifier.predict(X_test)"
   ]
  },
  {
   "cell_type": "code",
   "execution_count": 26,
   "metadata": {},
   "outputs": [],
   "source": [
    "# for confusion instead of probablity of the outcome we need predicted results in true/false. \n",
    "\n",
    "y_pred = (y_pred > 0.5)"
   ]
  },
  {
   "cell_type": "code",
   "execution_count": 27,
   "metadata": {},
   "outputs": [
    {
     "name": "stdout",
     "output_type": "stream",
     "text": [
      "[[False]\n",
      " [False]\n",
      " [False]\n",
      " ...\n",
      " [False]\n",
      " [False]\n",
      " [False]]\n"
     ]
    }
   ],
   "source": [
    "print(y_pred)"
   ]
  },
  {
   "cell_type": "code",
   "execution_count": 30,
   "metadata": {},
   "outputs": [],
   "source": [
    "from sklearn.metrics import accuracy_score, confusion_matrix"
   ]
  },
  {
   "cell_type": "code",
   "execution_count": 31,
   "metadata": {},
   "outputs": [
    {
     "name": "stdout",
     "output_type": "stream",
     "text": [
      "[[1537   58]\n",
      " [ 220  185]]\n"
     ]
    },
    {
     "data": {
      "text/plain": [
       "0.861"
      ]
     },
     "execution_count": 31,
     "metadata": {},
     "output_type": "execute_result"
    }
   ],
   "source": [
    "cm = confusion_matrix(y_test,y_pred)\n",
    "print(cm)\n",
    "accuracy_score(y_test,y_pred)"
   ]
  },
  {
   "cell_type": "code",
   "execution_count": null,
   "metadata": {},
   "outputs": [],
   "source": []
  }
 ],
 "metadata": {
  "kernelspec": {
   "display_name": "Python 3",
   "language": "python",
   "name": "python3"
  },
  "language_info": {
   "codemirror_mode": {
    "name": "ipython",
    "version": 3
   },
   "file_extension": ".py",
   "mimetype": "text/x-python",
   "name": "python",
   "nbconvert_exporter": "python",
   "pygments_lexer": "ipython3",
   "version": "3.7.3"
  }
 },
 "nbformat": 4,
 "nbformat_minor": 2
}
